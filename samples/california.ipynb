{
 "cells": [
  {
   "cell_type": "code",
   "execution_count": 24,
   "metadata": {},
   "outputs": [],
   "source": [
    "from IPython.core.interactiveshell import InteractiveShell\n",
    "InteractiveShell.ast_node_interactivity = \"all\""
   ]
  },
  {
   "cell_type": "code",
   "execution_count": 25,
   "metadata": {},
   "outputs": [],
   "source": [
    "import pandas as pd\n",
    "\n",
    "dat = pd.read_excel('california.xlsx')"
   ]
  },
  {
   "cell_type": "code",
   "execution_count": 26,
   "metadata": {},
   "outputs": [],
   "source": [
    "dat.head()\n",
    "dat.shape\n",
    "daten = dat.dropna()\n",
    "daten.shape\n",
    "daten = daten[['Längengrad', 'Breitengrad', 'Einkommen (Median)']]\n",
    "daten.head()\n",
    "daten.shape"
   ]
  },
  {
   "cell_type": "code",
   "execution_count": 27,
   "metadata": {},
   "outputs": [],
   "source": [
    "from sklearn.cluster import KMeans\n",
    "\n",
    "variabilitaet = []\n",
    "\n",
    "K = range(1,10)\n",
    "\n",
    "for k in K:\n",
    "        kMeanModel = KMeans(n_clusters = k)\n",
    "        kMeanModel.fit(daten)\n",
    "        variabilitaet.append(kMeanModel.inertia_)"
   ]
  },
  {
   "cell_type": "code",
   "execution_count": 28,
   "metadata": {},
   "outputs": [],
   "source": [
    "import matplotlib.pyplot as plt\n",
    "plt.plot(K, variabilitaet)"
   ]
  },
  {
   "cell_type": "code",
   "execution_count": 49,
   "metadata": {},
   "outputs": [],
   "source": [
    "kMeanModel = KMeans(n_clusters = 4, init = initiale_clusterzentren)\n",
    "kMeanModel.fit(daten)\n",
    "kMeanModel.cluster_centers_\n",
    "kMeanModel.n_iter_\n",
    "kMeanModel.labels_[:50]"
   ]
  },
  {
   "cell_type": "code",
   "execution_count": 40,
   "metadata": {},
   "outputs": [],
   "source": [
    "import numpy as np\n",
    "\n",
    "daten[:4]\n",
    "initiale_clusterzentren = daten[:4]\n",
    "initiale_clusterzentren = np.array(initiale_clusterzentren)\n",
    "initiale_clusterzentren"
   ]
  },
  {
   "cell_type": "code",
   "execution_count": 41,
   "metadata": {},
   "outputs": [],
   "source": [
    "daten_array = np.array(daten)\n",
    "daten_array[:4]"
   ]
  },
  {
   "cell_type": "code",
   "execution_count": 42,
   "metadata": {},
   "outputs": [],
   "source": [
    "aktuelle_clusterzentren = initiale_clusterzentren"
   ]
  },
  {
   "cell_type": "code",
   "execution_count": 43,
   "metadata": {},
   "outputs": [],
   "source": [
    "from numpy.linalg import norm"
   ]
  },
  {
   "cell_type": "code",
   "execution_count": 59,
   "metadata": {},
   "outputs": [],
   "source": [
    "zugewiesene_clusterzentren = []\n",
    "for i in daten_array:\n",
    "    abstand = []\n",
    "    for j in aktuelle_clusterzentren:\n",
    "        abstand.append(norm(i-j))\n",
    "    zugewiesene_clusterzentren.append(np.argmin(abstand))\n",
    "daten_cluster = np.column_stack((daten_array, np.array(zugewiesene_clusterzentren)))\n",
    "daten_cluster_0 = daten_cluster[daten_cluster[:, 3] == 0]\n",
    "daten_cluster_1 = daten_cluster[daten_cluster[:, 3] == 1]\n",
    "daten_cluster_2 = daten_cluster[daten_cluster[:, 3] == 2]\n",
    "daten_cluster_3 = daten_cluster[daten_cluster[:, 3] == 3]\n",
    "clusterzentrum_cluster_0 = np.mean(daten_cluster_0, axis = 0)\n",
    "clusterzentrum_cluster_1 = np.mean(daten_cluster_1, axis = 0)\n",
    "clusterzentrum_cluster_2 = np.mean(daten_cluster_2, axis = 0)\n",
    "clusterzentrum_cluster_3 = np.mean(daten_cluster_3, axis = 0)\n",
    "aktuelle_clusterzentren = np.array([clusterzentrum_cluster_0, clusterzentrum_cluster_1, clusterzentrum_cluster_2, clusterzentrum_cluster_3])\n",
    "aktuelle_clusterzentren = np.delete(aktuelle_clusterzentren, 3, axis = 1)\n",
    "aktuelle_clusterzentren\n",
    "kMeanModel.cluster_centers_"
   ]
  },
  {
   "cell_type": "code",
   "execution_count": 28,
   "metadata": {},
   "outputs": [],
   "source": [
    "import seaborn as sns\n",
    "\n",
    "sns.set_style('whitegrid')\n",
    "sns.relplot(x = daten_cluster[:, 0], y = daten_cluster[:, 1], hue = daten_cluster[:, 3], data=daten_cluster, palette = \"pastel\", kind='scatter');\n"
   ]
  }
 ],
 "metadata": {
  "interpreter": {
   "hash": "c4fa943f921269da3e732623af938cff013b3a493bfbb1f6222dabfac6af3d3b"
  },
  "kernelspec": {
   "display_name": "Python 3.8.8 64-bit ('base': conda)",
   "name": "python3"
  },
  "language_info": {
   "codemirror_mode": {
    "name": "ipython",
    "version": 3
   },
   "file_extension": ".py",
   "mimetype": "text/x-python",
   "name": "python",
   "nbconvert_exporter": "python",
   "pygments_lexer": "ipython3",
   "version": "3.8.8"
  },
  "orig_nbformat": 4
 },
 "nbformat": 4,
 "nbformat_minor": 2
}
