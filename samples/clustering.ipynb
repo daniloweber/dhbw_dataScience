{
 "cells": [
  {
   "cell_type": "code",
   "id": "initial_id",
   "metadata": {
    "collapsed": true,
    "ExecuteTime": {
     "end_time": "2025-01-09T09:23:14.179865Z",
     "start_time": "2025-01-09T09:23:12.176344Z"
    }
   },
   "source": [
    "import pandas as pd\n",
    "from jupyter_server.terminal import initialize\n",
    "\n",
    "dat = pd.read_excel('california.xlsx')\n"
   ],
   "outputs": [],
   "execution_count": 2
  },
  {
   "metadata": {
    "ExecuteTime": {
     "end_time": "2025-01-09T09:30:05.030791Z",
     "start_time": "2025-01-09T09:30:05.007671Z"
    }
   },
   "cell_type": "code",
   "source": [
    "dat.head()\n",
    "print(dat.shape)\n",
    "daten = dat.dropna()\n",
    "print(daten.shape)\n",
    "daten = daten[['Längengrad', 'Breitengrad','Einkommen (Median)']]\n",
    "daten.head()\n",
    "daten.shape"
   ],
   "id": "ba967e42b94ff934",
   "outputs": [
    {
     "name": "stdout",
     "output_type": "stream",
     "text": [
      "(20640, 8)\n",
      "(20433, 8)\n"
     ]
    },
    {
     "data": {
      "text/plain": [
       "(20433, 3)"
      ]
     },
     "execution_count": 10,
     "metadata": {},
     "output_type": "execute_result"
    }
   ],
   "execution_count": 10
  },
  {
   "metadata": {
    "ExecuteTime": {
     "end_time": "2025-01-09T09:35:37.859594Z",
     "start_time": "2025-01-09T09:35:37.534493Z"
    }
   },
   "cell_type": "code",
   "source": [
    "from sklearn.cluster import KMeans\n",
    "\n",
    "variability = []\n",
    "K = range(1, 10)\n",
    "\n",
    "for k in K:\n",
    "    kMeanModel = KMeans(n_clusters=k)\n",
    "    kMeanModel.fit(daten)\n",
    "    variability.append(kMeanModel.inertia_)"
   ],
   "id": "f725e1dc7e39af43",
   "outputs": [],
   "execution_count": 12
  },
  {
   "metadata": {
    "ExecuteTime": {
     "end_time": "2025-01-09T09:36:21.940589Z",
     "start_time": "2025-01-09T09:36:21.753536Z"
    }
   },
   "cell_type": "code",
   "source": [
    "import matplotlib.pyplot as plt\n",
    "\n",
    "plt.plot(K, variability)"
   ],
   "id": "7469b44f84139e92",
   "outputs": [
    {
     "data": {
      "text/plain": [
       "[<matplotlib.lines.Line2D at 0x270d4ee8e20>]"
      ]
     },
     "execution_count": 13,
     "metadata": {},
     "output_type": "execute_result"
    },
    {
     "data": {
      "text/plain": [
       "<Figure size 640x480 with 1 Axes>"
      ],
      "image/png": "[encoded data removed]"
     },
     "metadata": {},
     "output_type": "display_data"
    }
   ],
   "execution_count": 13
  },
  {
   "metadata": {
    "ExecuteTime": {
     "end_time": "2025-01-09T10:40:14.230258Z",
     "start_time": "2025-01-09T10:40:14.209732Z"
    }
   },
   "cell_type": "code",
   "source": [
    "kMeanModel = KMeans(n_clusters=4, init= initialize_clustercenter)\n",
    "kMeanModel.fit(daten)\n",
    "\n",
    "print(kMeanModel.cluster_centers_)\n",
    "print(kMeanModel.n_iter_)\n",
    "print(kMeanModel.labels_[:50])\n"
   ],
   "id": "f70e07e9bef1de41",
   "outputs": [
    {
     "name": "stdout",
     "output_type": "stream",
     "text": [
      "[[-121.62709987   38.0678169     2.92114605]\n",
      " [-118.05609894   33.86498748    6.35018723]\n",
      " [-121.95261734   37.66295137    6.13432486]\n",
      " [-117.98894505   33.96803153    3.02086114]]\n",
      "15\n",
      "[0 3 0 3 2 0 3 0 1 0 0 3 0 3 3 3 3 2 0 3 0 1 2 0 0 0 2 1 3 2 3 1 1 0 3 3 3\n",
      " 1 3 0 0 0 0 2 0 3 0 2 0 3]\n"
     ]
    }
   ],
   "execution_count": 39
  },
  {
   "metadata": {},
   "cell_type": "code",
   "outputs": [],
   "execution_count": null,
   "source": "# Manuelle Berechnung ab hier",
   "id": "60c7c8333e24ab01"
  },
  {
   "metadata": {
    "ExecuteTime": {
     "end_time": "2025-01-09T10:40:16.397679Z",
     "start_time": "2025-01-09T10:40:16.379629Z"
    }
   },
   "cell_type": "code",
   "source": [
    "import numpy as np\n",
    "\n",
    "daten [:4]\n",
    "\n",
    "initialize_clustercenter = daten[:4]\n",
    "initialize_clustercenter = np.array(initialize_clustercenter)\n",
    "initialize_clustercenter"
   ],
   "id": "b07ca9a4affc4e1d",
   "outputs": [
    {
     "data": {
      "text/plain": [
       "array([[-120.54  ,   38.41  ,    2.5667],\n",
       "       [-117.1   ,   32.7   ,    3.6042],\n",
       "       [-118.43  ,   37.4   ,    4.1576],\n",
       "       [-116.5   ,   33.82  ,    2.1042]])"
      ]
     },
     "execution_count": 40,
     "metadata": {},
     "output_type": "execute_result"
    }
   ],
   "execution_count": 40
  },
  {
   "metadata": {
    "ExecuteTime": {
     "end_time": "2025-01-09T10:40:20.645057Z",
     "start_time": "2025-01-09T10:40:20.630810Z"
    }
   },
   "cell_type": "code",
   "source": [
    "daten_array = np.array(daten)\n",
    "daten_array[:10]"
   ],
   "id": "ae6473b401e9c1c0",
   "outputs": [
    {
     "data": {
      "text/plain": [
       "array([[-120.54  ,   38.41  ,    2.5667],\n",
       "       [-117.1   ,   32.7   ,    3.6042],\n",
       "       [-118.43  ,   37.4   ,    4.1576],\n",
       "       [-116.5   ,   33.82  ,    2.1042],\n",
       "       [-121.89  ,   37.23  ,    8.1988],\n",
       "       [-124.14  ,   40.59  ,    2.178 ],\n",
       "       [-120.44  ,   34.97  ,    3.7589],\n",
       "       [-122.11  ,   37.7   ,    2.4206],\n",
       "       [-118.5   ,   34.52  ,    5.9263],\n",
       "       [-122.26  ,   37.83  ,    2.0978]])"
      ]
     },
     "execution_count": 41,
     "metadata": {},
     "output_type": "execute_result"
    }
   ],
   "execution_count": 41
  },
  {
   "metadata": {
    "ExecuteTime": {
     "end_time": "2025-01-09T10:40:22.680036Z",
     "start_time": "2025-01-09T10:40:22.670040Z"
    }
   },
   "cell_type": "code",
   "source": "actual_clustercenter = initialize_clustercenter",
   "id": "9d282a3837ba326e",
   "outputs": [],
   "execution_count": 42
  },
  {
   "metadata": {
    "ExecuteTime": {
     "end_time": "2025-01-09T10:40:23.975023Z",
     "start_time": "2025-01-09T10:40:23.962881Z"
    }
   },
   "cell_type": "code",
   "source": "from numpy.linalg import norm",
   "id": "24dc34972dc773ab",
   "outputs": [],
   "execution_count": 43
  },
  {
   "metadata": {
    "ExecuteTime": {
     "end_time": "2025-01-09T10:41:47.607178Z",
     "start_time": "2025-01-09T10:41:47.303455Z"
    }
   },
   "cell_type": "code",
   "source": [
    "assigned_clustercenter = []\n",
    "\n",
    "for i in daten_array:\n",
    "    distance = []\n",
    "    for j in actual_clustercenter:\n",
    "        distance.append(norm(i - j))\n",
    "    assigned_clustercenter.append(np.argmin(distance))\n",
    "\n",
    "daten_cluster = np.column_stack((daten_array, np.array(assigned_clustercenter)))\n",
    "\n",
    "daten_cluster_0 = daten_cluster[daten_cluster[:,3] == 0]\n",
    "daten_cluster_1 = daten_cluster[daten_cluster[:,3] == 1]\n",
    "daten_cluster_2 = daten_cluster[daten_cluster[:,3] == 2]\n",
    "daten_cluster_3 = daten_cluster[daten_cluster[:,3] == 3]\n",
    "\n",
    "clustercenter_cluster_0 = np.mean(daten_cluster_0, axis=0)\n",
    "clustercenter_cluster_1 = np.mean(daten_cluster_1, axis=0)\n",
    "clustercenter_cluster_2 = np.mean(daten_cluster_2, axis=0)\n",
    "clustercenter_cluster_3 = np.mean(daten_cluster_3, axis=0)\n",
    "\n",
    "actual_clustercenter = np.array([clustercenter_cluster_0, clustercenter_cluster_1, clustercenter_cluster_2, clustercenter_cluster_3])\n",
    "actual_clustercenter = np.delete(actual_clustercenter, 3, axis=1)\n",
    "print(actual_clustercenter)\n",
    "print(kMeanModel.cluster_centers_)"
   ],
   "id": "d919693fcb60ac83",
   "outputs": [
    {
     "name": "stdout",
     "output_type": "stream",
     "text": [
      "[[-121.62709987   38.0678169     2.92114605]\n",
      " [-118.05609894   33.86498748    6.35018723]\n",
      " [-121.95261734   37.66295137    6.13432486]\n",
      " [-117.98894505   33.96803153    3.02086114]]\n",
      "[[-121.62709987   38.0678169     2.92114605]\n",
      " [-118.05609894   33.86498748    6.35018723]\n",
      " [-121.95261734   37.66295137    6.13432486]\n",
      " [-117.98894505   33.96803153    3.02086114]]\n"
     ]
    }
   ],
   "execution_count": 58
  }
 ],
 "metadata": {
  "kernelspec": {
   "display_name": "Python 3",
   "language": "python",
   "name": "python3"
  },
  "language_info": {
   "codemirror_mode": {
    "name": "ipython",
    "version": 2
   },
   "file_extension": ".py",
   "mimetype": "text/x-python",
   "name": "python",
   "nbconvert_exporter": "python",
   "pygments_lexer": "ipython2",
   "version": "2.7.6"
  }
 },
 "nbformat": 4,
 "nbformat_minor": 5
}
